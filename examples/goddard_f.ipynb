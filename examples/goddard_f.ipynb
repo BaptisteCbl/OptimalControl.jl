{
 "cells": [
  {
   "cell_type": "markdown",
   "metadata": {},
   "source": [
    "## Direct solve"
   ]
  },
  {
   "cell_type": "code",
   "execution_count": 1,
   "metadata": {
    "tags": []
   },
   "outputs": [
    {
     "name": "stderr",
     "output_type": "stream",
     "text": [
      "\u001b[36m\u001b[1m[ \u001b[22m\u001b[39m\u001b[36m\u001b[1mInfo: \u001b[22m\u001b[39mPrecompiling OptimalControl [5f98b655-cc9a-415a-b60e-744165666948]\n",
      "\u001b[91m\u001b[1mERROR: \u001b[22m\u001b[39mLoadError: UndefVarError: LagrangeControlFunction not defined\n",
      "Stacktrace:\n",
      " [1] top-level scope\n",
      "\u001b[90m   @ \u001b[39m\u001b[90m~/.julia/packages/Parameters/MK0O4/src/\u001b[39m\u001b[90m\u001b[4mParameters.jl:611\u001b[24m\u001b[39m\n",
      " [2] \u001b[0m\u001b[1minclude\u001b[22m\u001b[0m\u001b[1m(\u001b[22m\u001b[90mmod\u001b[39m::\u001b[0mModule, \u001b[90m_path\u001b[39m::\u001b[0mString\u001b[0m\u001b[1m)\u001b[22m\n",
      "\u001b[90m   @ \u001b[39m\u001b[90mBase\u001b[39m \u001b[90m./\u001b[39m\u001b[90m\u001b[4mBase.jl:419\u001b[24m\u001b[39m\n",
      " [3] \u001b[0m\u001b[1minclude\u001b[22m\u001b[0m\u001b[1m(\u001b[22m\u001b[90mx\u001b[39m::\u001b[0mString\u001b[0m\u001b[1m)\u001b[22m\n",
      "\u001b[90m   @ \u001b[39m\u001b[35mOptimalControl\u001b[39m \u001b[90m~/OptimalControl.jl/src/\u001b[39m\u001b[90m\u001b[4mOptimalControl.jl:1\u001b[24m\u001b[39m\n",
      " [4] top-level scope\n",
      "\u001b[90m   @ \u001b[39m\u001b[90m~/OptimalControl.jl/src/\u001b[39m\u001b[90m\u001b[4mOptimalControl.jl:53\u001b[24m\u001b[39m\n",
      " [5] \u001b[0m\u001b[1minclude\u001b[22m\n",
      "\u001b[90m   @ \u001b[39m\u001b[90m./\u001b[39m\u001b[90m\u001b[4mBase.jl:419\u001b[24m\u001b[39m\u001b[90m [inlined]\u001b[39m\n",
      " [6] \u001b[0m\u001b[1minclude_package_for_output\u001b[22m\u001b[0m\u001b[1m(\u001b[22m\u001b[90mpkg\u001b[39m::\u001b[0mBase.PkgId, \u001b[90minput\u001b[39m::\u001b[0mString, \u001b[90mdepot_path\u001b[39m::\u001b[0mVector\u001b[90m{String}\u001b[39m, \u001b[90mdl_load_path\u001b[39m::\u001b[0mVector\u001b[90m{String}\u001b[39m, \u001b[90mload_path\u001b[39m::\u001b[0mVector\u001b[90m{String}\u001b[39m, \u001b[90mconcrete_deps\u001b[39m::\u001b[0mVector\u001b[90m{Pair{Base.PkgId, UInt64}}\u001b[39m, \u001b[90msource\u001b[39m::\u001b[0mNothing\u001b[0m\u001b[1m)\u001b[22m\n",
      "\u001b[90m   @ \u001b[39m\u001b[90mBase\u001b[39m \u001b[90m./\u001b[39m\u001b[90m\u001b[4mloading.jl:1554\u001b[24m\u001b[39m\n",
      " [7] top-level scope\n",
      "\u001b[90m   @ \u001b[39m\u001b[90m\u001b[4mstdin:1\u001b[24m\u001b[39m\n",
      "in expression starting at /home/caillau/OptimalControl.jl/src/main/model.jl:5\n",
      "in expression starting at /home/caillau/OptimalControl.jl/src/OptimalControl.jl:1\n",
      "in expression starting at stdin:1\n"
     ]
    },
    {
     "ename": "LoadError",
     "evalue": "Failed to precompile OptimalControl [5f98b655-cc9a-415a-b60e-744165666948] to /home/caillau/.julia/compiled/v1.8/OptimalControl/jl_LmDupW.",
     "output_type": "error",
     "traceback": [
      "Failed to precompile OptimalControl [5f98b655-cc9a-415a-b60e-744165666948] to /home/caillau/.julia/compiled/v1.8/OptimalControl/jl_LmDupW.",
      "",
      "Stacktrace:",
      " [1] error(s::String)",
      "   @ Base ./error.jl:35",
      " [2] compilecache(pkg::Base.PkgId, path::String, internal_stderr::IO, internal_stdout::IO, keep_loaded_modules::Bool)",
      "   @ Base ./loading.jl:1705",
      " [3] compilecache",
      "   @ ./loading.jl:1649 [inlined]",
      " [4] _require(pkg::Base.PkgId)",
      "   @ Base ./loading.jl:1337",
      " [5] _require_prelocked(uuidkey::Base.PkgId)",
      "   @ Base ./loading.jl:1200",
      " [6] macro expansion",
      "   @ ./loading.jl:1180 [inlined]",
      " [7] macro expansion",
      "   @ ./lock.jl:223 [inlined]",
      " [8] require(into::Module, mod::Symbol)",
      "   @ Base ./loading.jl:1144"
     ]
    }
   ],
   "source": [
    "using OptimalControl\n",
    "\n",
    "# Parameters\n",
    "Cd = 310\n",
    "Tmax = 3.5\n",
    "β = 500\n",
    "b = 2\n",
    "t0 = 0\n",
    "r0 = 1\n",
    "v0 = 0\n",
    "vmax = 0.1\n",
    "m0 = 1\n",
    "mf = 0.6\n",
    "x0 = [ r0, v0, m0 ]\n",
    "\n",
    "ocp = Model()\n",
    "\n",
    "time!(ocp, :initial, t0) # if not provided, final time is free\n",
    "state!(ocp, 3) # state dim\n",
    "control!(ocp, 1) # control dim\n",
    "\n",
    "constraint!(ocp, :initial, x0)\n",
    "constraint!(ocp, :control, u -> u[1], 0, 1) # constraints can be labeled or not\n",
    "constraint!(ocp, :state, (x, u) -> x[1], r0, Inf,  :state_con1)\n",
    "constraint!(ocp, :state, (x, u) -> x[2], 0, vmax,  :state_con2)\n",
    "constraint!(ocp, :state, (x, u) -> x[3], mf, m0,   :state_con3)\n",
    "\n",
    "objective!(ocp, :mayer,  (t0, x0, tf, xf) -> xf[1], :max)\n",
    "\n",
    "function F0(x)\n",
    "    r, v, m = x\n",
    "    D = Cd * v^2 * exp(-β*(r - 1))\n",
    "    F = [ v, -D/m - 1/r^2, 0 ]\n",
    "    return F\n",
    "end\n",
    "\n",
    "function F1(x)\n",
    "    r, v, m = x\n",
    "    F = [ 0, Tmax/m, -b*Tmax ]\n",
    "    return F\n",
    "end\n",
    "\n",
    "f(x, u) = F0(x) + u*F1(x)\n",
    "\n",
    "constraint!(ocp, :dynamics, f)\n",
    "\n",
    "# Solve\n",
    "N = 30\n",
    "sol = solve(ocp, N)\n",
    "plot(sol)"
   ]
  },
  {
   "cell_type": "markdown",
   "metadata": {
    "tags": []
   },
   "source": [
    "## Indirect solve"
   ]
  },
  {
   "cell_type": "code",
   "execution_count": 2,
   "metadata": {
    "tags": []
   },
   "outputs": [
    {
     "ename": "LoadError",
     "evalue": "UndefVarError: Poisson not defined",
     "output_type": "error",
     "traceback": [
      "UndefVarError: Poisson not defined",
      "",
      "Stacktrace:",
      " [1] top-level scope",
      "   @ In[2]:10"
     ]
    }
   ],
   "source": [
    "using MINPACK\n",
    "\n",
    "# Bang controls\n",
    "u0(x, p) = [0.]\n",
    "u1(x, p) = [1.]\n",
    "\n",
    "# Computation of singular control of order 1\n",
    "H0(x, p) = p' * F0(x)\n",
    "H1(x, p) = p' * F1(x)\n",
    "H01 = Poisson(H0, H1)\n",
    "H001 = Poisson(H0, H01)\n",
    "H101 = Poisson(H1, H01)\n",
    "us(x, p) = [-H001(x, p) / H101(x, p)]\n",
    "\n",
    "# Computation of boundary control\n",
    "remove_constraint!(ocp, :state_con1)\n",
    "remove_constraint!(ocp, :state_con3)\n",
    "constraint!(ocp, :boundary, (t0, x0, tf, xf) -> xf[3], mf, :final_con) # one value => equality (not boxed inequality); changed to equality constraint for shooting\n",
    "#\n",
    "g(x) = constraint(ocp, :state_con2, :upper)(x, 0) # g(x, u) ≥ 0 (cf. nonnegative multiplier)\n",
    "ub(x, _) = [-Ad(F0, g)(x) / Ad(F1, g)(x)]\n",
    "μb(x, p) = H01(x, p) / Ad(F1, g)(x)\n",
    "\n",
    "f0 = Flow(ocp, u0)\n",
    "f1 = Flow(ocp, u1)\n",
    "fs = Flow(ocp, us)\n",
    "fb = Flow(ocp, ub, (x, _) -> g(x), μb)\n",
    "\n",
    "# Shooting function\n",
    "function shoot!(s, p0, t1, t2, t3, tf) # B+ S C B0 structure\n",
    "\n",
    "    x1, p1 = f1(t0, x0, p0, t1)\n",
    "    x2, p2 = fs(t1, x1, p1, t2)\n",
    "    x3, p3 = fb(t2, x2, p2, t3)\n",
    "    xf, pf = f0(t3, x3, p3, tf)\n",
    "    s[1] = constraint(ocp, :final_con)(t0, x0, tf, xf)\n",
    "    s[2:3] = pf[1:2] - [ 1, 0 ]\n",
    "    s[4] = H1(x1, p1)\n",
    "    s[5] = H01(x1, p1)\n",
    "    s[6] = g(x2)\n",
    "    s[7] = H0(xf, pf) # free tf\n",
    "\n",
    "end\n",
    "\n",
    "# Initialisation from direct solution\n",
    "t = sol.T; t = (t[1:end-1] + t[2:end]) / 2\n",
    "x = [ sol.X[i, 1:3] for i ∈ 1:N+1 ]; x = (x[1:end-1] + x[2:end]) / 2\n",
    "u = [ sol.U[i, 1  ] for i ∈ 1:N+1 ]; u = (u[1:end-1] + u[2:end]) / 2\n",
    "p = [ sol.P[i, 1:3] for i ∈ 1:N   ]\n",
    "                \n",
    "u_plot = plot(t, u, xlabel = \"t\", ylabel = \"u\", legend = false)\n",
    "H1_plot = plot(t, H1.(x, p), xlabel = \"t\", ylabel = \"H1\", legend = false)\n",
    "g_plot = plot(t, g.(x), xlabel = \"t\", ylabel = \"g\", legend = false)\n",
    "display(plot(u_plot, H1_plot, g_plot, layout=(3,1), size=(800,600)))\n",
    "\n",
    "η = 1e-3\n",
    "t13 = t[ abs.(H1.(x, p)) .≤ η ]\n",
    "t23 = t[ 0 .≤ g.(x) .≤ η ]\n",
    "p0 = p[1]\n",
    "t1 = min(t13...)\n",
    "t2 = min(t23...)\n",
    "t3 = max(t23...)\n",
    "tf = t[end]\n",
    "ξ = [ p0 ; t1 ; t2 ; t3 ; tf ]\n",
    "\n",
    "println(\"Initial guess:\\n\", ξ)\n",
    "\n",
    "# Solve\n",
    "nle = (s, ξ) -> shoot!(s, ξ[1:3], ξ[4], ξ[5], ξ[6], ξ[7])\n",
    "sol = fsolve(nle, ξ, show_trace=true)\n",
    "println(sol)\n",
    "\n",
    "# Plots\n",
    "p0 = sol.x[1:3]\n",
    "t1 = sol.x[4]\n",
    "t2 = sol.x[5]\n",
    "t3 = sol.x[6]\n",
    "tf = sol.x[7]"
   ]
  },
  {
   "cell_type": "code",
   "execution_count": 3,
   "metadata": {},
   "outputs": [
    {
     "ename": "LoadError",
     "evalue": "UndefVarError: t1 not defined",
     "output_type": "error",
     "traceback": [
      "UndefVarError: t1 not defined",
      "",
      "Stacktrace:",
      " [1] top-level scope",
      "   @ In[3]:2"
     ]
    }
   ],
   "source": [
    "# Plots\n",
    "f = f1 * (t1, fs) * (t2, fb) * (t3, f0) # concatenation of the Hamiltonian flows\n",
    "sol = f((t0, tf), x0, p0)\n",
    "r_plot = plot(sol, idxs=(0, 1), xlabel=\"t\", label=\"r\")\n",
    "v_plot = plot(sol, idxs=(0, 2), xlabel=\"t\", label=\"v\")\n",
    "m_plot = plot(sol, idxs=(0, 3), xlabel=\"t\", label=\"m\")\n",
    "pr_plot = plot(sol, idxs=(0, 4), xlabel=\"t\", label=\"p_r\")\n",
    "pv_plot = plot(sol, idxs=(0, 5), xlabel=\"t\", label=\"p_v\")\n",
    "pm_plot = plot(sol, idxs=(0, 6), xlabel=\"t\", label=\"p_m\")\n",
    "plot(r_plot, pr_plot, v_plot, pv_plot, m_plot, pv_plot, layout=(3, 2))"
   ]
  }
 ],
 "metadata": {
  "kernelspec": {
   "display_name": "Julia 1.8.0",
   "language": "julia",
   "name": "julia-1.8"
  },
  "language_info": {
   "file_extension": ".jl",
   "mimetype": "application/julia",
   "name": "julia",
   "version": "1.8.0"
  }
 },
 "nbformat": 4,
 "nbformat_minor": 4
}
