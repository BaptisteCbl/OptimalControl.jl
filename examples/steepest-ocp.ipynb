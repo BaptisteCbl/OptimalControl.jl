{
 "cells": [
  {
   "cell_type": "markdown",
   "id": "c012e150-d263-45cd-b2ed-aab4d1e65844",
   "metadata": {},
   "source": [
    "# Steepest descent and optimal control: the double integrator"
   ]
  },
  {
   "cell_type": "code",
   "execution_count": 26,
   "id": "c64ae62b-4b97-4fb2-96b4-c57cf63988c8",
   "metadata": {},
   "outputs": [
    {
     "name": "stderr",
     "output_type": "stream",
     "text": [
      "WARNING: replacing module ControlToolbox.\n"
     ]
    }
   ],
   "source": [
    "include(\"../src/ControlToolbox.jl\"); using .ControlToolbox\n",
    "using Plots\n",
    "using Plots.PlotMeasures"
   ]
  },
  {
   "cell_type": "code",
   "execution_count": 27,
   "id": "f75e8562-87c5-45a3-a250-109ec13392f7",
   "metadata": {},
   "outputs": [],
   "source": [
    "t0 = 0.0\n",
    "tf = 1.0\n",
    "x0 = [-1.0; 0.0]\n",
    "xf = [ 0.0; 0.0]\n",
    "A  = [0.0 1.0\n",
    "      0.0 0.0]\n",
    "B  = [0.0; 1.0]\n",
    "\n",
    "dy(x, u) = A*x+B*u[1];\n",
    "co(u) = 0.5*u[1]^2\n",
    "cf(x) = x-xf\n",
    "\n",
    "# OCP definition\n",
    "ocp = ROCP(co, dy, t0, x0, tf, cf);"
   ]
  },
  {
   "cell_type": "code",
   "execution_count": 28,
   "id": "2a1aafdd-73d8-42b2-8477-5d99b281ab39",
   "metadata": {},
   "outputs": [
    {
     "ename": "MethodError",
     "evalue": "MethodError: no method matching osolve(::ROCP, ::Symbol; init=[[5.0], [4.988], [4.976], [4.964], [4.952], [4.94], [4.928], [4.916], [4.904], [4.892]  …  [-6.88], [-6.892], [-6.904], [-6.916], [-6.928], [-6.94], [-6.952], [-6.964], [-6.976], [-6.988]], grid_size=1001, penalty_constraint=10000.0, iterations=10, step_length=0.1)\nClosest candidates are:\n  osolve(!Matched::Main.ControlToolbox.OptimalControlProblem, ::Symbol; kwargs...) at ~/Boulot/recherche/Logiciels/dev/ct/control-toolbox.github.io/src/ocp.jl:18",
     "output_type": "error",
     "traceback": [
      "MethodError: no method matching osolve(::ROCP, ::Symbol; init=[[5.0], [4.988], [4.976], [4.964], [4.952], [4.94], [4.928], [4.916], [4.904], [4.892]  …  [-6.88], [-6.892], [-6.904], [-6.916], [-6.928], [-6.94], [-6.952], [-6.964], [-6.976], [-6.988]], grid_size=1001, penalty_constraint=10000.0, iterations=10, step_length=0.1)\n",
      "Closest candidates are:\n",
      "  osolve(!Matched::Main.ControlToolbox.OptimalControlProblem, ::Symbol; kwargs...) at ~/Boulot/recherche/Logiciels/dev/ct/control-toolbox.github.io/src/ocp.jl:18\n",
      "\n",
      "Stacktrace:\n",
      " [1] top-level scope\n",
      "   @ ~/Boulot/recherche/Logiciels/dev/ct/control-toolbox.github.io/examples/steepest-ocp.ipynb:7"
     ]
    }
   ],
   "source": [
    "N  = 1001\n",
    "U⁺ = range(6.0, -6.0, N); # solution\n",
    "U⁺ = U⁺[1:end-1];\n",
    "U_init = U⁺-1e0*ones(N-1)\n",
    "U_init = [ [U_init[i]] for i=1:N-1 ]\n",
    "\n",
    "T, X, U = osolve(ocp, :steepest_descent, init=U_init, grid_size=N, penalty_constraint=1e4, iterations=10, step_length=1e-1);"
   ]
  },
  {
   "cell_type": "code",
   "execution_count": 29,
   "id": "0252ac18-4179-4632-af11-4245242958eb",
   "metadata": {},
   "outputs": [
    {
     "ename": "UndefVarError",
     "evalue": "UndefVarError: T not defined",
     "output_type": "error",
     "traceback": [
      "UndefVarError: T not defined\n",
      "\n",
      "Stacktrace:\n",
      " [1] top-level scope\n",
      "   @ ~/Boulot/recherche/Logiciels/dev/ct/control-toolbox.github.io/examples/steepest-ocp.ipynb:1"
     ]
    }
   ],
   "source": [
    "m = length(T)\n",
    "x1 = [ X[i][1] for i=1:m ]\n",
    "x2 = [ X[i][2] for i=1:m ]\n",
    "u  = [ U[i][1] for i=1:m-1 ]\n",
    "\n",
    "ms = 3\n",
    "x1_plot   = plot(T,  x1, xlabel = \"t\", ylabel = \"x₁\",  legend = false)\n",
    "plot!(x1_plot, [T[m]], [xf[1]], color=:blue, seriestype=:scatter, markersize=ms, markerstrokewidth=0, legend=false)\n",
    "\n",
    "x2_plot   = plot(T,  x2, xlabel = \"t\", ylabel = \"x₂\",  legend = false)\n",
    "plot!(x2_plot, [T[m]], [xf[2]], color=:blue, seriestype=:scatter, markersize=ms, markerstrokewidth=0, legend=false)\n",
    "\n",
    "x1x2_plot = plot(x1, x2, xlabel = \"x₁\", ylabel = \"x₂\",  legend = false)\n",
    "plot!(x1x2_plot, [xf[1]], [xf[2]], color=:blue, seriestype=:scatter, markersize=ms, markerstrokewidth=0, legend=false)\n",
    "\n",
    "u_plot    = plot(T,  vcat(u, u[end]), xlabel = \"t\", ylabel = \"u\",   legend = false, linetype=:steppre)\n",
    "\n",
    "plot(x1_plot, x2_plot, x1x2_plot, u_plot, layout = (2,2), size=(800,600), left_margin=5mm)"
   ]
  },
  {
   "cell_type": "code",
   "execution_count": null,
   "id": "13be2a2a-eed9-43a2-81e2-7ac459ddcd6f",
   "metadata": {},
   "outputs": [],
   "source": []
  }
 ],
 "metadata": {
  "kernelspec": {
   "display_name": "Julia 1.7.3",
   "language": "julia",
   "name": "julia-1.7"
  },
  "language_info": {
   "file_extension": ".jl",
   "mimetype": "application/julia",
   "name": "julia",
   "version": "1.7.3"
  }
 },
 "nbformat": 4,
 "nbformat_minor": 5
}
