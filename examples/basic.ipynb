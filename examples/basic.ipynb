{
 "cells": [
  {
   "cell_type": "code",
   "execution_count": null,
   "id": "d8ca6450-4ed7-40ba-9686-1ac002816dea",
   "metadata": {},
   "outputs": [],
   "source": [
    "using OptimalControl\n",
    "\n",
    "t0 = 0.\n",
    "tf = 1.\n",
    "\n",
    "@time t\n",
    "@state x[1:2]\n",
    "@control u\n",
    "\n",
    "ocp = Model()\n",
    "\n",
    "@boundary_constraint(ocp, begin\n",
    "    x(t0) == [ -1., 0. ]\n",
    "    x(tf) == [  0., 0. ]\n",
    "end)\n",
    "\n",
    "A = [ 0. 1.\n",
    "      0. 0.]\n",
    "B = [ 0.\n",
    "      1. ]\n",
    "@dynamics(ocp, ∂x == A*x + B*u)\n",
    "\n",
    "@objective(ocp, Min, ∫ t0 tf 0.5*u^2)\n",
    "\n",
    "sol = solve(ocp)                                           \n",
    "plot(sol)         "
   ]
  }
 ],
 "metadata": {
  "kernelspec": {
   "display_name": "Julia 1.6.3",
   "language": "julia",
   "name": "julia-1.6"
  },
  "language_info": {
   "file_extension": ".jl",
   "mimetype": "application/julia",
   "name": "julia",
   "version": "1.6.3"
  }
 },
 "nbformat": 4,
 "nbformat_minor": 5
}
