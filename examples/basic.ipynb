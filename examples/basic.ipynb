{
 "cells": [
  {
   "cell_type": "code",
   "execution_count": null,
   "metadata": {},
   "outputs": [],
   "source": [
    "using OptimalControl\n",
    "\n",
    "t0 = 0.\n",
    "tf = 1.\n",
    "\n",
    "ocp = Model()\n",
    "\n",
    "@time(ocp, t ∈ [t0, tf])\n",
    "@state(ocp, x[3])\n",
    "@control(ocp, u)\n",
    "\n",
    "@constraint(ocp, x(t0) == [ -1., 0. ])\n",
    "c(x) = x[1] - 1.\n",
    "@constraint(ocp, c(x(tf)) == 0.)\n",
    "\n",
    "A = [ 0. 1.\n",
    "      0. 0.]\n",
    "B = [ 0.\n",
    "      1. ]\n",
    "\n",
    "@constraint(ocp, ∂x(t) == A*x(t) + B*u(t))\n",
    "\n",
    "@objective(ocp, 0.5 * ∫ u(t)^2 -> min) # default is to minimise\n",
    "\n",
    "sol = solve(ocp)                                           \n",
    "plot(sol)   "
   ]
  }
 ],
 "metadata": {
  "kernelspec": {
   "display_name": "Julia 1.8.0",
   "language": "julia",
   "name": "julia-1.8"
  },
  "language_info": {
   "file_extension": ".jl",
   "mimetype": "application/julia",
   "name": "julia",
   "version": "1.8.0"
  }
 },
 "nbformat": 4,
 "nbformat_minor": 5
}
