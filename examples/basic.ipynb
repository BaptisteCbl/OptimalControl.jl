{
 "cells": [
  {
   "cell_type": "code",
   "execution_count": null,
   "id": "d8ca6450-4ed7-40ba-9686-1ac002816dea",
   "metadata": {},
   "outputs": [],
   "source": [
    "using OptimalControl\n",
    "\n",
    "t0 = 0.\n",
    "tf = 1.\n",
    "\n",
    "ocp = Model()\n",
    "\n",
    "set_time!(ocp, (t0, tf))\n",
    "set_state!(ocp, 2)\n",
    "set_control!(ocp, 1)\n",
    "\n",
    "\n",
    "add_boundary_constraint!(ocp, :initial, [ -1., 0. ])\n",
    "add_boundary_constraint!(ocp, :final,   [  0., 0. ])    \n",
    "\n",
    "A = [ 0. 1.\n",
    "      0. 0.]\n",
    "B = [ 0.\n",
    "      1. ]\n",
    "\n",
    "set_dynamics!(ocp, (x, u) -> A*x + B*u)\n",
    "\n",
    "set_objective!(ocp, :min, (x, u) -> 0.5*u[1]^2)\n",
    "\n",
    "sol = solve(ocp)                                           \n",
    "plot(sol)   "
   ]
  }
 ],
 "metadata": {
  "kernelspec": {
   "display_name": "Julia 1.6.3",
   "language": "julia",
   "name": "julia-1.6"
  },
  "language_info": {
   "file_extension": ".jl",
   "mimetype": "application/julia",
   "name": "julia",
   "version": "1.6.3"
  }
 },
 "nbformat": 4,
 "nbformat_minor": 5
}
