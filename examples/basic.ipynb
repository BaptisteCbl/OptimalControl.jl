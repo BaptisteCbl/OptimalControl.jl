{
 "cells": [
  {
   "cell_type": "code",
   "execution_count": null,
   "metadata": {},
   "outputs": [],
   "source": [
    "using OptimalControl\n",
    "\n",
    "t0 = 0\n",
    "tf = 1\n",
    "\n",
    "ocp = Model()\n",
    "\n",
    "@time       ocp t ∈ [t0, tf]\n",
    "@state      ocp x[2]\n",
    "@control    ocp u\n",
    "\n",
    "@constraint ocp x(t0) == [ -1, 0 ]\n",
    "@constraint ocp x(tf) == [  0, 0 ]\n",
    "\n",
    "A = [ 0 1\n",
    "      0 0 ]\n",
    "B = [ 0\n",
    "      1 ]\n",
    "\n",
    "@constraint ocp ẋ(t) == A*x(t) + B*u(t)\n",
    "\n",
    "@objective  ocp min (1/2) ∫ u(t)^2\n",
    "\n",
    "sol = solve(ocp)                                           \n",
    "plot(sol)   "
   ]
  }
 ],
 "metadata": {
  "kernelspec": {
   "display_name": "Julia 1.8.0",
   "language": "julia",
   "name": "julia-1.8"
  },
  "language_info": {
   "file_extension": ".jl",
   "mimetype": "application/julia",
   "name": "julia",
   "version": "1.8.0"
  }
 },
 "nbformat": 4,
 "nbformat_minor": 5
}
