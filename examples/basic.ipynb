{
 "cells": [
  {
   "cell_type": "code",
   "execution_count": null,
   "id": "d8ca6450-4ed7-40ba-9686-1ac002816dea",
   "metadata": {},
   "outputs": [],
   "source": [
    "using OptimalControl\n",
    "\n",
    "t0 = 0.\n",
    "tf = 1.\n",
    "\n",
    "ocp = Model()\n",
    "\n",
    "time!(ocp, (t0, tf))\n",
    "state!(ocp, 2) # state dim",
    "control!(ocp, 1) # control dim",
    "\n",
    "constraint!(ocp, :initial, [ -1., 0. ])\n",
    "constraint!(ocp, :final,   [  0., 0. ])    \n",
    "\n",
    "A = [ 0. 1.\n",
    "      0. 0.]\n",
    "B = [ 0.\n",
    "      1. ]\n",
    "\n",
    "constraint!(ocp, :dynamics, (x, u) -> A*x + B*u)\n",
    "\n",
    "objective!(ocp, :lagrangian, (x, u) -> 0.5*u^2) # default is to minimise\n",
    "\n",
    "sol = solve(ocp)                                           \n",
    "plot(sol)"
   ]
  }
 ],
 "metadata": {
  "kernelspec": {
   "display_name": "Julia 1.8.2",
   "language": "julia",
   "name": "julia-1.8"
  },
  "language_info": {
   "file_extension": ".jl",
   "mimetype": "application/julia",
   "name": "julia",
   "version": "1.6.3"
  }
 },
 "nbformat": 4,
 "nbformat_minor": 5
}
