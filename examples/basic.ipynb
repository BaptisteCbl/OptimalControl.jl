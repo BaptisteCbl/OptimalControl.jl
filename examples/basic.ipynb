{
 "cells": [
  {
   "cell_type": "code",
   "execution_count": null,
   "id": "d8ca6450-4ed7-40ba-9686-1ac002816dea",
   "metadata": {},
   "outputs": [],
   "source": [
    "using OptimalControl\n",
    "\n",
    "t0 = 0.\n",
    "tf = 1.\n",
    "\n",
    "ocp = Model()\n",
    "\n",
    "time!(ocp, (t0, tf))\n",
    "\n",
    "constraint!(ocp, Initial, [ -1., 0. ])\n",
    "constraint!(ocp, Final,   [  0., 0. ])    \n",
    "\n",
    "A = [ 0. 1.\n",
    "      0. 0.]\n",
    "B = [ 0.\n",
    "      1. ]\n",
    "\n",
    "constraint!(ocp, Dynamics, (x, u) -> A*x + B*u)\n",
    "\n",
    "objective!(ocp, Lagrangian, (x, u) -> 0.5*u^2) # default is to minimise\n",
    "\n",
    "sol = solve(ocp)                                           \n",
    "plot(sol)   "
   ]
  }
 ],
 "metadata": {
  "kernelspec": {
   "display_name": "Julia 1.6.3",
   "language": "julia",
   "name": "julia-1.6"
  },
  "language_info": {
   "file_extension": ".jl",
   "mimetype": "application/julia",
   "name": "julia",
   "version": "1.6.3"
  }
 },
 "nbformat": 4,
 "nbformat_minor": 5
}
