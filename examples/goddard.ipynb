{
 "cells": [
  {
   "cell_type": "markdown",
   "metadata": {},
   "source": [
    "## Direct solve"
   ]
  },
  {
   "cell_type": "code",
   "execution_count": null,
   "metadata": {
    "tags": []
   },
   "outputs": [],
   "source": [
    "using OptimalControl\n",
    "\n",
    "# Parameters\n",
    "Cd = 310.\n",
    "Tmax = 3.5\n",
    "β = 500.\n",
    "b = 2.\n",
    "N = 100\n",
    "t0 = 0.\n",
    "r0 = 1.\n",
    "v0 = 0.\n",
    "vmax = 0.1\n",
    "m0 = 1.\n",
    "mf = 0.6\n",
    "\n",
    "@time t\n",
    "@variable tf\n",
    "@state x[1:3]\n",
    "@control u\n",
    "\n",
    "ocp = Model()\n",
    "\n",
    "@boundary_constraint(ocp, begin\n",
    "    x(0) == [ r0, v0, m0 ]\n",
    "    x(tf)[3] == mf\n",
    "end)\n",
    "\n",
    "@state_constraint(ocp, begin\n",
    "    r0 ≤ r\n",
    "    0 ≤ v ≤ vmax\n",
    "    m0 ≤ m ≤ mf\n",
    "end)\n",
    "\n",
    "@objective(ocp, Max, r(tf))\n",
    "\n",
    "function F0(x)\n",
    "    r, v, m = x\n",
    "    D = Cd * v^2 * exp(-β*(r-1.))\n",
    "    F = [ v, -D/m-1.0/r^2, 0. ]\n",
    "    return F\n",
    "end\n",
    "\n",
    "function F1(x)\n",
    "    r, v, m = x\n",
    "    F = [ 0., Tmax/m, -b*Tmax ]\n",
    "    return F\n",
    "end\n",
    "\n",
    "@dynamics(ocp, ∂x == F0(x) + u*F1(x))\n",
    "\n",
    "sol = solve(ocp)\n",
    "plot(sol)\n",
    "p0 = sol.adjoint[1] # should also retrieve approximation of switching and final times..."
   ]
  },
  {
   "cell_type": "markdown",
   "metadata": {
    "tags": []
   },
   "source": [
    "## Indirect solve"
   ]
  },
  {
   "cell_type": "code",
   "execution_count": null,
   "metadata": {
    "tags": []
   },
   "outputs": [],
   "source": [
    "# Bang controls\n",
    "u0(x, p) = 0.\n",
    "u1(x, p) = 1.\n",
    "\n",
    "# Computation of singular control of order 1\n",
    "H0(x, p) = p' * F0(x)\n",
    "H1(x, p) = p' * F1(x)\n",
    "H01 = {H0, H1}\n",
    "H001 = {H0, H01}\n",
    "H101 = {H1, H01}\n",
    "us(x, p) = -H001(x, p) / H101(x, p)\n",
    "\n",
    "# Computation of boundary control\n",
    "μ0(x, p) = 0.\n",
    "g(x) = vmax-x[2] # vmax - v ≥ 0\n",
    "ub(x) = -Ad(F0, g)(x) / Ad(F1, g)(x)\n",
    "μb(x, p) = H01(x, p) / Ad(F1, g)(x)\n",
    "\n",
    "reset!(ocp, :state_constraint)\n",
    "@state_constraint(ocp, g(x) ≥ 0.)\n",
    "\n",
    "f0 = Flow(ocp, u0, μ0)\n",
    "f1 = Flow(ocp, u1, μ0)\n",
    "fs = Flow(ocp, us, μ0)\n",
    "fb = Flow(ocp, ub, μb)\n",
    "\n",
    "# Shooting function\n",
    "function shoot(x0, p0, t1, t2, t3, tf) # B+ S C B0 structure\n",
    "\n",
    "    x1, p1 = f1(t0, x0, p0, t1)\n",
    "    x2, p2 = fs(t1, x1, p1, t2)\n",
    "    x3, p3 = fb(t2, x2, p2, t3)\n",
    "    xf, pf = f0(t3, x3, p3, tf)\n",
    "    s = zeros(eltype(p0), 10)\n",
    "    s[1:6] = boundary_constraints(ocp, x0, p0, xf, pf)\n",
    "    s[7] = H1(x1, p1)\n",
    "    s[8] = H01(x1, p1)\n",
    "    s[9] = g(x2)\n",
    "    s[10] = H0(xf, pf) # free tf\n",
    "\n",
    "    return s\n",
    "\n",
    "end"
   ]
  }
 ],
 "metadata": {
  "kernelspec": {
   "display_name": "Julia 1.6.3",
   "language": "julia",
   "name": "julia-1.6"
  },
  "language_info": {
   "file_extension": ".jl",
   "mimetype": "application/julia",
   "name": "julia",
   "version": "1.6.3"
  }
 },
 "nbformat": 4,
 "nbformat_minor": 4
}
