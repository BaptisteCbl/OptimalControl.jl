{
 "cells": [
  {
   "cell_type": "markdown",
   "metadata": {},
   "source": [
    "## Direct solve"
   ]
  },
  {
   "cell_type": "code",
   "execution_count": null,
   "metadata": {
    "tags": []
   },
   "outputs": [],
   "source": [
    "using OptimalControl\n",
    "\n",
    "# Parameters\n",
    "Cd = 310\n",
    "Tmax = 3.5\n",
    "β = 500\n",
    "b = 2\n",
    "N = 100\n",
    "t0 = 0\n",
    "r0 = 1\n",
    "v0 = 0\n",
    "vmax = 0.1\n",
    "m0 = 1\n",
    "mf = 0.6\n",
    "\n",
    "ocp = @def begin\n",
    "\n",
    "    variable: tf\n",
    "    time: t ∈ [ t0, tf ]\n",
    "    state: x[3]\n",
    "    control: u\n",
    "    \n",
    "    r = x₁\n",
    "    v = x₂\n",
    "    m = x₃\n",
    "   \n",
    "    x(t0) == [ r0, v0, m0 ]\n",
    "    0  ≤ u(t) ≤ 1\n",
    "    0  ≤ r(t)            => eq1\n",
    "    0  ≤ v(t) ≤ vmax     => eq2\n",
    "    mf ≤ m(t) ≤ m0       => eq3\n",
    " \n",
    "    r(tf) -> max\n",
    "    \n",
    "end\n",
    "\n",
    "function F0(x)\n",
    "    r, v, m = x\n",
    "    D = Cd * v^2 * exp(-β*(r - 1))\n",
    "    F = [ v, -D/m - 1/r^2, 0 ]\n",
    "    return F\n",
    "end\n",
    "\n",
    "function F1(x)\n",
    "    r, v, m = x\n",
    "    F = [ 0, Tmax/m, -b*Tmax ]\n",
    "    return F\n",
    "end\n",
    "\n",
    "f(x, u) = F0(x) + u*F1(x)\n",
    "\n",
    "@def! ocp ẋ(t) == f(x(t), u(t))\n",
    "\n",
    "sol = solve(ocp)\n",
    "plot(sol)"
   ]
  }
 ],
 "metadata": {
  "kernelspec": {
   "display_name": "Julia 1.8.0",
   "language": "julia",
   "name": "julia-1.8"
  },
  "language_info": {
   "file_extension": ".jl",
   "mimetype": "application/julia",
   "name": "julia",
   "version": "1.8.0"
  }
 },
 "nbformat": 4,
 "nbformat_minor": 4
}
